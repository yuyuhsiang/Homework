{
 "cells": [
  {
   "cell_type": "code",
   "execution_count": 4,
   "id": "c3f680fb",
   "metadata": {},
   "outputs": [
    {
     "name": "stdout",
     "output_type": "stream",
     "text": [
      "歡迎123登入！ 27.369244677167263\n"
     ]
    }
   ],
   "source": [
    "import cv2\n",
    "import time\n",
    "\n",
    "model = cv2.face.LBPHFaceRecognizer_create()\n",
    "model.read('faces_LBPH.yml')\n",
    "f = open('member.txt', 'r') #讀入模型\n",
    "names = f.readline().split(',') #讀入姓名存於串列\n",
    "\n",
    "face_cascade = cv2.CascadeClassifier(cv2.data.haarcascades + \"haarcascade_frontalface_alt2.xml\")\n",
    "cap = cv2.VideoCapture(0)\n",
    "cv2.namedWindow('frame', cv2.WINDOW_NORMAL)\n",
    "\n",
    "timenow = time.time() #取得現在時間數值\n",
    "while(cap.isOpened()): #cam開啟成功\n",
    "    count = 5 - int(time.time() - timenow) #倒數計時5秒\n",
    "    ret, img = cap.read()\n",
    "    if ret == True:\n",
    "        imgcopy = img.copy() #複製影像\n",
    "        cv2.putText(imgcopy, str(count), (200,400), cv2.FONT_HERSHEY_SIMPLEX, 15, (0,0,255), 35) #在複製影像上畫倒數秒數\n",
    "        cv2.imshow(\"frame\", imgcopy) #顯示複製影像\n",
    "        k = cv2.waitKey(100) #0.1秒讀鍵盤一次\n",
    "        if k == ord(\"z\") or k == ord(\"Z\") or count == 0: #按Z鍵或倒數計時結束\n",
    "            cv2.imwrite(\"media/tem.jpg\", img) #將影像存檔\n",
    "            break\n",
    "cap.release() #關閉cam\n",
    "cv2.destroyAllWindows()\n",
    "\n",
    "img = cv2.imread(\"media/tem.jpg\")\n",
    "gray = cv2.cvtColor(img, cv2.COLOR_BGR2GRAY)\n",
    "faces = face_cascade.detectMultiScale(gray, 1.1, 3)\n",
    "for (x, y, w, h) in faces:\n",
    "    img = cv2.rectangle(img, (x, y), (x + w, y + h), (0, 255, 0), 3)\n",
    "    face_img = cv2.resize(gray[y: y + h, x: x + w], (400, 400)) #調整成訓練時大小\n",
    "    try:\n",
    "        val = model.predict(face_img)\n",
    "        if val[1] <50: #辨識成功，顯示登入訊息\n",
    "            print('歡迎' + names[val[0]] + '登入！', val[1])\n",
    "        else:\n",
    "            print('抱歉！你不是會員，請你離開！')\n",
    "    except:\n",
    "        print('辨識時產生錯誤！')"
   ]
  },
  {
   "cell_type": "code",
   "execution_count": null,
   "id": "21ba2520",
   "metadata": {},
   "outputs": [],
   "source": []
  }
 ],
 "metadata": {
  "kernelspec": {
   "display_name": "Python 3 (ipykernel)",
   "language": "python",
   "name": "python3"
  },
  "language_info": {
   "codemirror_mode": {
    "name": "ipython",
    "version": 3
   },
   "file_extension": ".py",
   "mimetype": "text/x-python",
   "name": "python",
   "nbconvert_exporter": "python",
   "pygments_lexer": "ipython3",
   "version": "3.11.5"
  }
 },
 "nbformat": 4,
 "nbformat_minor": 5
}
